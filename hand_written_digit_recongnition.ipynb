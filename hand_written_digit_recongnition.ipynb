{
  "nbformat": 4,
  "nbformat_minor": 0,
  "metadata": {
    "colab": {
      "name": "hand-written-digit-recongnition.ipynb",
      "provenance": [],
      "collapsed_sections": []
    },
    "kernelspec": {
      "name": "python3",
      "display_name": "Python 3"
    },
    "language_info": {
      "name": "python"
    }
  },
  "cells": [
    {
      "cell_type": "code",
      "metadata": {
        "id": "NXjq0daAl72-"
      },
      "source": [
        "#importing necessary packages and libraries\n",
        "import tensorflow as tf\n",
        "import matplotlib.pyplot as plt\n",
        "import numpy as np"
      ],
      "execution_count": 31,
      "outputs": []
    },
    {
      "cell_type": "code",
      "metadata": {
        "id": "6oTCd9XemKUt"
      },
      "source": [
        "#importing mnist dataset\n",
        "#mnist dataset contains hand-written digit\n",
        "dataset = tf.keras.datasets.mnist"
      ],
      "execution_count": 3,
      "outputs": []
    },
    {
      "cell_type": "code",
      "metadata": {
        "colab": {
          "base_uri": "https://localhost:8080/"
        },
        "id": "X5G_USxIqhh7",
        "outputId": "8ec893a7-459a-4852-b38e-396bc246d1ed"
      },
      "source": [
        "#unpack the dataset to train and test\n",
        "(x_train, y_train),(x_test, y_test) = dataset.load_data() "
      ],
      "execution_count": 5,
      "outputs": [
        {
          "output_type": "stream",
          "text": [
            "Downloading data from https://storage.googleapis.com/tensorflow/tf-keras-datasets/mnist.npz\n",
            "11493376/11490434 [==============================] - 0s 0us/step\n"
          ],
          "name": "stdout"
        }
      ]
    },
    {
      "cell_type": "code",
      "metadata": {
        "colab": {
          "base_uri": "https://localhost:8080/"
        },
        "id": "W-JqZa3iq9v5",
        "outputId": "504b3ab3-4691-47fd-935d-b82fa0e22147"
      },
      "source": [
        "x_train.shape"
      ],
      "execution_count": 9,
      "outputs": [
        {
          "output_type": "execute_result",
          "data": {
            "text/plain": [
              "(60000, 28, 28)"
            ]
          },
          "metadata": {
            "tags": []
          },
          "execution_count": 9
        }
      ]
    },
    {
      "cell_type": "code",
      "metadata": {
        "colab": {
          "base_uri": "https://localhost:8080/"
        },
        "id": "4IfHwM1TrT6p",
        "outputId": "a25525da-c622-4782-9794-df477c832114"
      },
      "source": [
        ""
      ],
      "execution_count": 7,
      "outputs": [
        {
          "output_type": "execute_result",
          "data": {
            "text/plain": [
              "(10000, 28, 28)"
            ]
          },
          "metadata": {
            "tags": []
          },
          "execution_count": 7
        }
      ]
    },
    {
      "cell_type": "code",
      "metadata": {
        "colab": {
          "base_uri": "https://localhost:8080/",
          "height": 265
        },
        "id": "DmWwb2aDrd7J",
        "outputId": "53934c99-c588-4e2c-ef52-c018f6df1672"
      },
      "source": [
        "#showing image of one hand-written digit(seventh image in the list) from the training dataset\n",
        "plt.imshow(x_train[6])\n",
        "plt.show()\n"
      ],
      "execution_count": 12,
      "outputs": [
        {
          "output_type": "display_data",
          "data": {
            "image/png": "[encoded data removed]",
            "text/plain": [
              "<Figure size 432x288 with 1 Axes>"
            ]
          },
          "metadata": {
            "tags": [],
            "needs_background": "light"
          }
        }
      ]
    },
    {
      "cell_type": "code",
      "metadata": {
        "colab": {
          "base_uri": "https://localhost:8080/",
          "height": 265
        },
        "id": "_JMVRglvu6nJ",
        "outputId": "484b26d4-cdf8-44f9-9683-fce6116318d4"
      },
      "source": [
        "#showing image of one hand-written digit(seventh image in the list) from the training dataset\n",
        "plt.imshow(x_train[6],cmap=plt.cm.binary)\n",
        "plt.show()\n"
      ],
      "execution_count": 17,
      "outputs": [
        {
          "output_type": "display_data",
          "data": {
            "image/png": "[encoded data removed]",
            "text/plain": [
              "<Figure size 432x288 with 1 Axes>"
            ]
          },
          "metadata": {
            "tags": [],
            "needs_background": "light"
          }
        }
      ]
    },
    {
      "cell_type": "code",
      "metadata": {
        "colab": {
          "base_uri": "https://localhost:8080/"
        },
        "id": "_Ru-6F6bsvlT",
        "outputId": "44bdaf29-3259-4479-dcc6-8773a8aa6ef0"
      },
      "source": [
        "#checking which digit does the image represent(seventh image in this case)\n",
        "print(y_train[6])"
      ],
      "execution_count": 15,
      "outputs": [
        {
          "output_type": "stream",
          "text": [
            "1\n"
          ],
          "name": "stdout"
        }
      ]
    },
    {
      "cell_type": "code",
      "metadata": {
        "id": "FXaDnzQ2tMkZ"
      },
      "source": [
        "#normalizing the dataset both for train and test\n",
        "x_train = tf.keras.utils.normalize(x_train, axis=1)\n",
        "x_test = tf.keras.utils.normalize(x_test, axis=1)"
      ],
      "execution_count": 16,
      "outputs": []
    },
    {
      "cell_type": "code",
      "metadata": {
        "id": "s50KsiSlvO4h"
      },
      "source": [
        "#build the model\n",
        "model = tf.keras.models.Sequential()\n",
        "#adding layers\n",
        "model.add(tf.keras.layers.Flatten()) #this is input layer \n",
        "# next layer is a dense layer with 128 neurons/units and relu activation function\n",
        "model.add(tf.keras.layers.Dense(128, activation=tf.nn.relu))\n",
        "# next layer is also a dense layer with 128 neurons/units and relu activation function\n",
        "model.add(tf.keras.layers.Dense(128, activation=tf.nn.relu))\n",
        "#next layer is the output layer with 10 units since the dataset contains 10 classes(0-9) for classification\n",
        "#activation function softmax since for probability distribution in the last layer\n",
        "model.add(tf.keras.layers.Dense(10, activation=tf.nn.softmax))"
      ],
      "execution_count": 20,
      "outputs": []
    },
    {
      "cell_type": "code",
      "metadata": {
        "id": "8mVOd8Q01MoN"
      },
      "source": [
        "#add optimizer and loss function to the model \n",
        "model.compile(optimizer='adam', loss='sparse_categorical_crossentropy', metrics='accuracy')"
      ],
      "execution_count": 22,
      "outputs": []
    },
    {
      "cell_type": "code",
      "metadata": {
        "colab": {
          "base_uri": "https://localhost:8080/"
        },
        "id": "AZuwvoxm1cD5",
        "outputId": "583731f0-fb95-43f0-8be3-5919353f1ba2"
      },
      "source": [
        "#train the model with the train_data with 4 epochs\n",
        "model.fit(x_train, y_train, epochs=4)"
      ],
      "execution_count": 25,
      "outputs": [
        {
          "output_type": "stream",
          "text": [
            "Epoch 1/4\n",
            "1875/1875 [==============================] - 4s 2ms/step - loss: 0.0546 - accuracy: 0.9828\n",
            "Epoch 2/4\n",
            "1875/1875 [==============================] - 4s 2ms/step - loss: 0.0409 - accuracy: 0.9867\n",
            "Epoch 3/4\n",
            "1875/1875 [==============================] - 4s 2ms/step - loss: 0.0312 - accuracy: 0.9895\n",
            "Epoch 4/4\n",
            "1875/1875 [==============================] - 4s 2ms/step - loss: 0.0264 - accuracy: 0.9913\n"
          ],
          "name": "stdout"
        },
        {
          "output_type": "execute_result",
          "data": {
            "text/plain": [
              "<tensorflow.python.keras.callbacks.History at 0x7f6b25902d50>"
            ]
          },
          "metadata": {
            "tags": []
          },
          "execution_count": 25
        }
      ]
    },
    {
      "cell_type": "code",
      "metadata": {
        "colab": {
          "base_uri": "https://localhost:8080/"
        },
        "id": "bHLWxmbf2CRZ",
        "outputId": "62502fa0-7ca7-4cac-b735-dd888e3ba2f0"
      },
      "source": [
        "#saving the model\n",
        "model.save('hand_written_digit_recognition.model')"
      ],
      "execution_count": 26,
      "outputs": [
        {
          "output_type": "stream",
          "text": [
            "INFO:tensorflow:Assets written to: hand_written_digit_recognition.model/assets\n"
          ],
          "name": "stdout"
        }
      ]
    },
    {
      "cell_type": "code",
      "metadata": {
        "id": "2wYM7TD-45Nd"
      },
      "source": [
        "#load the pretrained model 'hand_written_digit_recognition.model'\n",
        "new_model = tf.keras.models.load_model('hand_written_digit_recognition.model')\n"
      ],
      "execution_count": 27,
      "outputs": []
    },
    {
      "cell_type": "code",
      "metadata": {
        "colab": {
          "base_uri": "https://localhost:8080/",
          "height": 265
        },
        "id": "puYMJiJu65ET",
        "outputId": "8dbedd3b-b69b-4232-d126-0218c6c9a75f"
      },
      "source": [
        "#first show an image from the test dataset #11th image\n",
        "plt.imshow(x_test[10])\n",
        "plt.show()"
      ],
      "execution_count": 33,
      "outputs": [
        {
          "output_type": "display_data",
          "data": {
            "image/png": "[encoded data removed]",
            "text/plain": [
              "<Figure size 432x288 with 1 Axes>"
            ]
          },
          "metadata": {
            "tags": [],
            "needs_background": "light"
          }
        }
      ]
    },
    {
      "cell_type": "code",
      "metadata": {
        "colab": {
          "base_uri": "https://localhost:8080/"
        },
        "id": "WU72nMHp5zxc",
        "outputId": "e6e0fd8d-bc1d-4bb4-fbdf-e60db5428782"
      },
      "source": [
        "#predict using the new model\n",
        "prediction = new_model.predict([x_test])\n",
        "print(np.argmax(prediction[10]))"
      ],
      "execution_count": 35,
      "outputs": [
        {
          "output_type": "stream",
          "text": [
            "0\n"
          ],
          "name": "stdout"
        }
      ]
    },
    {
      "cell_type": "code",
      "metadata": {
        "colab": {
          "base_uri": "https://localhost:8080/"
        },
        "id": "cCMCfLUm6x96",
        "outputId": "abce98eb-4a0b-4bb8-f8d1-5a6b26549f9f"
      },
      "source": [
        "#evaluate the model \n",
        "(validation_loss, validation_accuracy) = new_model.evaluate(x_test, y_test)\n",
        "print(validation_loss, validation_accuracy)"
      ],
      "execution_count": 37,
      "outputs": [
        {
          "output_type": "stream",
          "text": [
            "313/313 [==============================] - 1s 1ms/step - loss: 0.0968 - accuracy: 0.9738\n",
            "0.09681323915719986 0.973800003528595\n"
          ],
          "name": "stdout"
        }
      ]
    }
  ]
}